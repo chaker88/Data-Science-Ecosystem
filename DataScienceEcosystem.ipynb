{
 "cells": [
  {
   "cell_type": "markdown",
   "id": "5a925660-e139-4327-a586-a4514dfb5d87",
   "metadata": {},
   "source": [
    "# Data Science Tools and Ecosystem\n"
   ]
  },
  {
   "cell_type": "markdown",
   "id": "a41374ed-ab6a-4ce6-9ef5-1e0213a14cdd",
   "metadata": {},
   "source": [
    "In this notebook, Data Science Tools and Ecosystem are summarized.\n",
    "## Objectives:\r\n",
    "\r\n",
    "- **List popular languages for Data Science:** Explore and understand the programming languages commonly used in the field of Data Science.\r\n",
    "\r\n",
    "- **Examine key libraries and frameworks:** Explore important libraries and frameworks utilized in Data Science, such as NumPy, Pandas, and TensorFlo  dustries.\r\n",
    "\r\n"
   ]
  },
  {
   "cell_type": "markdown",
   "id": "1e7c294e-2c5d-4b15-ae03-3f7b21045808",
   "metadata": {},
   "source": [
    "## Data Science Languages\r\n",
    "\r\n",
    "Some of the popular languages that Data Scientists use are:\r\n",
    "\r\n",
    "1. Python\r\n",
    "2. R\r\n",
    "3. SQL"
   ]
  },
  {
   "cell_type": "markdown",
   "id": "c5aa7b06-494f-4a8c-b710-553f6eddb8a5",
   "metadata": {},
   "source": [
    "## Some of the commonly used libraries used by Data Scientists include:\r",
    "1. Pandas\n",
    "2. Scikit Learn\n",
    "3. Numpy\n"
   ]
  },
  {
   "cell_type": "markdown",
   "id": "3179f299-9db6-470a-9d2b-a0448e3c2ec2",
   "metadata": {},
   "source": [
    "## Data Science Tools\r\n",
    "\r\n",
    "| Data Science Tools |\r\n",
    "|---------------------|\r\n",
    "| Jupyter Notebooks   |\r\n",
    "| RStudio             |\r\n",
    "| VSCode with Python  |"
   ]
  },
  {
   "cell_type": "markdown",
   "id": "a95ad2ca-517c-43d1-9923-031c2a0cde0e",
   "metadata": {},
   "source": [
    "\n",
    "### Below are a few examples of evaluating arithmetic expressions in Python:\n",
    "1. Addition\n",
    "2. substraction\n",
    "3. division\r\n"
   ]
  },
  {
   "cell_type": "code",
   "execution_count": 1,
   "id": "31bd969c-3089-42d5-bbe7-83f029e64c62",
   "metadata": {},
   "outputs": [
    {
     "data": {
      "text/plain": [
       "17"
      ]
     },
     "execution_count": 1,
     "metadata": {},
     "output_type": "execute_result"
    }
   ],
   "source": [
    "#This a simple arithmetic expression to mutiply then add integers\n",
    "(3*4)+5\n"
   ]
  },
  {
   "cell_type": "code",
   "execution_count": 2,
   "id": "99080a1d-dd78-4638-9e9b-8b783d47f680",
   "metadata": {},
   "outputs": [
    {
     "name": "stdin",
     "output_type": "stream",
     "text": [
      "Enter the minutes:  200\n"
     ]
    },
    {
     "name": "stdout",
     "output_type": "stream",
     "text": [
      "3.3333333333333335\n"
     ]
    }
   ],
   "source": [
    "#convert minutes to hours\n",
    "a=input('Enter the minutes: ')\n",
    "b=float(a)\n",
    "convert=b/60\n",
    "print(convert)"
   ]
  },
  {
   "cell_type": "code",
   "execution_count": null,
   "id": "8c14c52e-102e-4022-a619-91fd090d25cc",
   "metadata": {},
   "outputs": [],
   "source": []
  },
  {
   "cell_type": "markdown",
   "id": "e3e58684-c9d0-44bd-a414-4131addd387f",
   "metadata": {},
   "source": [
    "## Author\n",
    "Chaker SAIDI"
   ]
  },
  {
   "cell_type": "code",
   "execution_count": null,
   "id": "8675a8ae-375a-439c-8e00-04723bbca732",
   "metadata": {},
   "outputs": [],
   "source": []
  }
 ],
 "metadata": {
  "kernelspec": {
   "display_name": "My Environment 1",
   "language": "python",
   "name": "myenv1"
  },
  "language_info": {
   "codemirror_mode": {
    "name": "ipython",
    "version": 3
   },
   "file_extension": ".py",
   "mimetype": "text/x-python",
   "name": "python",
   "nbconvert_exporter": "python",
   "pygments_lexer": "ipython3",
   "version": "3.8.18"
  }
 },
 "nbformat": 4,
 "nbformat_minor": 5
}
